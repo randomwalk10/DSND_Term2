{
 "cells": [
  {
   "cell_type": "markdown",
   "metadata": {},
   "source": [
    "### How Are We Doing?\n",
    "\n",
    "In the last notebook, you created a working version of SVD for situations even when there are tons of missing values.  This is awesome!  The question now is how well does this solution work?\n",
    "\n",
    "In this notebook, we are going to simulate exactly what we would do in the real world to tune our recommender.  \n",
    "\n",
    "Run the cell below to read in the data and get started."
   ]
  },
  {
   "cell_type": "code",
   "execution_count": 1,
   "metadata": {},
   "outputs": [
    {
     "name": "stderr",
     "output_type": "stream",
     "text": [
      "/home/randomwalk10/anaconda3/envs/aind/lib/python3.5/importlib/_bootstrap.py:222: RuntimeWarning: numpy.dtype size changed, may indicate binary incompatibility. Expected 96, got 88\n",
      "  return f(*args, **kwds)\n"
     ]
    }
   ],
   "source": [
    "import numpy as np\n",
    "import pandas as pd\n",
    "\n",
    "# Read in the datasets\n",
    "movies = pd.read_csv('data/movies_clean.csv')\n",
    "reviews = pd.read_csv('data/reviews_clean.csv')\n",
    "\n",
    "del movies['Unnamed: 0']\n",
    "del reviews['Unnamed: 0']"
   ]
  },
  {
   "cell_type": "markdown",
   "metadata": {},
   "source": [
    "1. Using the **reviews** dataframe, perform the following tasks to create a training and validation set of data we can use to test the performance of your SVD algorithm using **off-line** validation techniques.\n",
    "\n",
    " * Order the reviews dataframe from earliest to most recent \n",
    " * Pull the first 10000 reviews from  the dataset\n",
    " * Make the first 8000/10000 reviews the training data \n",
    " * Make the last 2000/10000 the test data\n",
    " * Return the training and test datasets"
   ]
  },
  {
   "cell_type": "code",
   "execution_count": 2,
   "metadata": {},
   "outputs": [],
   "source": [
    "def create_train_test(reviews, order_by, training_size, testing_size):\n",
    "    '''    \n",
    "    INPUT:\n",
    "    reviews - (pandas df) dataframe to split into train and test\n",
    "    order_by - (string) column name to sort by\n",
    "    training_size - (int) number of rows in training set\n",
    "    testing_size - (int) number of columns in the test set\n",
    "    \n",
    "    OUTPUT:\n",
    "    training_df -  (pandas df) dataframe of the training set\n",
    "    validation_df - (pandas df) dataframe of the test set\n",
    "    '''\n",
    "    reviews_sort = reviews.sort_values(order_by).head(training_size+testing_size)\n",
    "    training_df = reviews_sort.iloc[:training_size]\n",
    "    validation_df = reviews_sort.iloc[training_size:]\n",
    "    return training_df, validation_df"
   ]
  },
  {
   "cell_type": "code",
   "execution_count": 3,
   "metadata": {},
   "outputs": [],
   "source": [
    "# Nothing to change in this or the next cell\n",
    "# Use our function to create training and test datasets\n",
    "train_df, val_df = create_train_test(reviews, 'date', 8000, 2000)"
   ]
  },
  {
   "cell_type": "code",
   "execution_count": 4,
   "metadata": {},
   "outputs": [
    {
     "name": "stdout",
     "output_type": "stream",
     "text": [
      "Nice job!  Looks like you have written a function that provides training and validation dataframes for you to use in the next steps.\n"
     ]
    }
   ],
   "source": [
    "# Make sure the dataframes we are using are the right shape\n",
    "assert train_df.shape[0] == 8000, \"The number of rows doesn't look right in the training dataset.\"\n",
    "assert val_df.shape[0] == 2000, \"The number of rows doesn't look right in the validation dataset\"\n",
    "assert str(train_df.tail(1)['date']).split()[1] == '2013-03-15', \"The last date in the training dataset doesn't look like what we expected.\"\n",
    "assert str(val_df.tail(1)['date']).split()[1] == '2013-03-18', \"The last date in the validation dataset doesn't look like what we expected.\"\n",
    "print(\"Nice job!  Looks like you have written a function that provides training and validation dataframes for you to use in the next steps.\")"
   ]
  },
  {
   "cell_type": "markdown",
   "metadata": {},
   "source": [
    "In the real world, we might have all of the data up to this final date in the training data.  Then we want to see how well we are doing for each of the new ratings, which show up in the test data.\n",
    "\n",
    "Below is a working example of the function created in the previous example you can use (or you can replace with your own).\n",
    "\n",
    "`2.`  Fit the function to the training data with the following hyperparameters: 15 latent features, a learning rate of 0.005, and 250 iterations. This will take some time to run, so you may choose fewer latent features, a higher learning rate, or fewer iteratios if you want to speed up the process.  \n",
    "\n",
    "**Note:** Again, this might be a good time to take a phone call, go for a walk, or just take a little break.  No need to change the code below unless you would like to make changes to reduce the time needed to obtain results."
   ]
  },
  {
   "cell_type": "code",
   "execution_count": 5,
   "metadata": {},
   "outputs": [],
   "source": [
    "def FunkSVD(ratings_mat, latent_features=12, learning_rate=0.0001, iters=100):\n",
    "    '''\n",
    "    This function performs matrix factorization using a basic form of FunkSVD with no regularization\n",
    "    \n",
    "    INPUT:\n",
    "    ratings_mat - (numpy array) a matrix with users as rows, movies as columns, and ratings as values\n",
    "    latent_features - (int) the number of latent features used\n",
    "    learning_rate - (float) the learning rate \n",
    "    iters - (int) the number of iterations\n",
    "    \n",
    "    OUTPUT:\n",
    "    user_mat - (numpy array) a user by latent feature matrix\n",
    "    movie_mat - (numpy array) a latent feature by movie matrix\n",
    "    '''\n",
    "    \n",
    "    # Set up useful values to be used through the rest of the function\n",
    "    n_users = ratings_mat.shape[0]\n",
    "    n_movies = ratings_mat.shape[1]\n",
    "    num_ratings = np.count_nonzero(~np.isnan(ratings_mat))\n",
    "    \n",
    "    # initialize the user and movie matrices with random values\n",
    "    user_mat = np.random.rand(n_users, latent_features)\n",
    "    movie_mat = np.random.rand(latent_features, n_movies)\n",
    "    \n",
    "    # initialize sse at 0 for first iteration\n",
    "    sse_accum = 0\n",
    "    \n",
    "    # keep track of iteration and MSE\n",
    "    print(\"Optimizaiton Statistics\")\n",
    "    print(\"Iterations | Mean Squared Error \")\n",
    "    \n",
    "    # for each iteration\n",
    "    for iteration in range(iters):\n",
    "\n",
    "        # update our sse\n",
    "        old_sse = sse_accum\n",
    "        sse_accum = 0\n",
    "        \n",
    "        # For each user-movie pair\n",
    "        for i in range(n_users):\n",
    "            for j in range(n_movies):\n",
    "                \n",
    "                # if the rating exists\n",
    "                if ratings_mat[i, j] > 0:\n",
    "                    \n",
    "                    # compute the error as the actual minus the dot product of the user and movie latent features\n",
    "                    diff = ratings_mat[i, j] - np.dot(user_mat[i, :], movie_mat[:, j])\n",
    "                    \n",
    "                    # Keep track of the sum of squared errors for the matrix\n",
    "                    sse_accum += diff**2\n",
    "                    \n",
    "                    # update the values in each matrix in the direction of the gradient\n",
    "                    for k in range(latent_features):\n",
    "                        user_mat[i, k] += learning_rate * (2*diff*movie_mat[k, j])\n",
    "                        movie_mat[k, j] += learning_rate * (2*diff*user_mat[i, k])\n",
    "\n",
    "        # print results\n",
    "        print(\"%d \\t\\t %f\" % (iteration+1, sse_accum / num_ratings))\n",
    "        \n",
    "    return user_mat, movie_mat "
   ]
  },
  {
   "cell_type": "code",
   "execution_count": 6,
   "metadata": {},
   "outputs": [
    {
     "name": "stdout",
     "output_type": "stream",
     "text": [
      "Optimizaiton Statistics\n",
      "Iterations | Mean Squared Error \n",
      "1 \t\t 10.555790\n",
      "2 \t\t 5.948340\n",
      "3 \t\t 4.157743\n",
      "4 \t\t 3.111725\n",
      "5 \t\t 2.424336\n",
      "6 \t\t 1.939085\n",
      "7 \t\t 1.580108\n",
      "8 \t\t 1.305866\n",
      "9 \t\t 1.091365\n",
      "10 \t\t 0.920483\n",
      "11 \t\t 0.782293\n",
      "12 \t\t 0.669124\n",
      "13 \t\t 0.575459\n",
      "14 \t\t 0.497245\n",
      "15 \t\t 0.431445\n",
      "16 \t\t 0.375745\n",
      "17 \t\t 0.328339\n",
      "18 \t\t 0.287802\n",
      "19 \t\t 0.252991\n",
      "20 \t\t 0.222982\n",
      "21 \t\t 0.197024\n",
      "22 \t\t 0.174499\n",
      "23 \t\t 0.154898\n",
      "24 \t\t 0.137797\n",
      "25 \t\t 0.122843\n",
      "26 \t\t 0.109736\n",
      "27 \t\t 0.098223\n",
      "28 \t\t 0.088090\n",
      "29 \t\t 0.079152\n",
      "30 \t\t 0.071252\n",
      "31 \t\t 0.064255\n",
      "32 \t\t 0.058045\n",
      "33 \t\t 0.052522\n",
      "34 \t\t 0.047601\n",
      "35 \t\t 0.043206\n",
      "36 \t\t 0.039274\n",
      "37 \t\t 0.035750\n",
      "38 \t\t 0.032585\n",
      "39 \t\t 0.029738\n",
      "40 \t\t 0.027172\n",
      "41 \t\t 0.024856\n",
      "42 \t\t 0.022762\n",
      "43 \t\t 0.020866\n",
      "44 \t\t 0.019147\n",
      "45 \t\t 0.017587\n",
      "46 \t\t 0.016168\n",
      "47 \t\t 0.014876\n",
      "48 \t\t 0.013699\n",
      "49 \t\t 0.012625\n",
      "50 \t\t 0.011644\n",
      "51 \t\t 0.010748\n",
      "52 \t\t 0.009927\n",
      "53 \t\t 0.009175\n",
      "54 \t\t 0.008486\n",
      "55 \t\t 0.007854\n",
      "56 \t\t 0.007274\n",
      "57 \t\t 0.006740\n",
      "58 \t\t 0.006250\n",
      "59 \t\t 0.005799\n",
      "60 \t\t 0.005383\n",
      "61 \t\t 0.005000\n",
      "62 \t\t 0.004647\n",
      "63 \t\t 0.004321\n",
      "64 \t\t 0.004020\n",
      "65 \t\t 0.003742\n",
      "66 \t\t 0.003485\n",
      "67 \t\t 0.003248\n",
      "68 \t\t 0.003028\n",
      "69 \t\t 0.002824\n",
      "70 \t\t 0.002636\n",
      "71 \t\t 0.002461\n",
      "72 \t\t 0.002299\n",
      "73 \t\t 0.002149\n",
      "74 \t\t 0.002010\n",
      "75 \t\t 0.001880\n",
      "76 \t\t 0.001760\n",
      "77 \t\t 0.001648\n",
      "78 \t\t 0.001544\n",
      "79 \t\t 0.001447\n",
      "80 \t\t 0.001357\n",
      "81 \t\t 0.001274\n",
      "82 \t\t 0.001195\n",
      "83 \t\t 0.001123\n",
      "84 \t\t 0.001055\n",
      "85 \t\t 0.000991\n",
      "86 \t\t 0.000932\n",
      "87 \t\t 0.000877\n",
      "88 \t\t 0.000825\n",
      "89 \t\t 0.000777\n",
      "90 \t\t 0.000732\n",
      "91 \t\t 0.000690\n",
      "92 \t\t 0.000651\n",
      "93 \t\t 0.000614\n",
      "94 \t\t 0.000579\n",
      "95 \t\t 0.000547\n",
      "96 \t\t 0.000516\n",
      "97 \t\t 0.000488\n",
      "98 \t\t 0.000461\n",
      "99 \t\t 0.000436\n",
      "100 \t\t 0.000412\n",
      "101 \t\t 0.000390\n",
      "102 \t\t 0.000369\n",
      "103 \t\t 0.000350\n",
      "104 \t\t 0.000331\n",
      "105 \t\t 0.000314\n",
      "106 \t\t 0.000298\n",
      "107 \t\t 0.000282\n",
      "108 \t\t 0.000268\n",
      "109 \t\t 0.000254\n",
      "110 \t\t 0.000241\n",
      "111 \t\t 0.000229\n",
      "112 \t\t 0.000218\n",
      "113 \t\t 0.000207\n",
      "114 \t\t 0.000197\n",
      "115 \t\t 0.000187\n",
      "116 \t\t 0.000178\n",
      "117 \t\t 0.000169\n",
      "118 \t\t 0.000161\n",
      "119 \t\t 0.000153\n",
      "120 \t\t 0.000146\n",
      "121 \t\t 0.000139\n",
      "122 \t\t 0.000132\n",
      "123 \t\t 0.000126\n",
      "124 \t\t 0.000120\n",
      "125 \t\t 0.000115\n",
      "126 \t\t 0.000109\n",
      "127 \t\t 0.000104\n",
      "128 \t\t 0.000100\n",
      "129 \t\t 0.000095\n",
      "130 \t\t 0.000091\n",
      "131 \t\t 0.000087\n",
      "132 \t\t 0.000083\n",
      "133 \t\t 0.000079\n",
      "134 \t\t 0.000076\n",
      "135 \t\t 0.000072\n",
      "136 \t\t 0.000069\n",
      "137 \t\t 0.000066\n",
      "138 \t\t 0.000063\n",
      "139 \t\t 0.000060\n",
      "140 \t\t 0.000058\n",
      "141 \t\t 0.000055\n",
      "142 \t\t 0.000053\n",
      "143 \t\t 0.000051\n",
      "144 \t\t 0.000049\n",
      "145 \t\t 0.000046\n",
      "146 \t\t 0.000044\n",
      "147 \t\t 0.000043\n",
      "148 \t\t 0.000041\n",
      "149 \t\t 0.000039\n",
      "150 \t\t 0.000037\n",
      "151 \t\t 0.000036\n",
      "152 \t\t 0.000034\n",
      "153 \t\t 0.000033\n",
      "154 \t\t 0.000032\n",
      "155 \t\t 0.000030\n",
      "156 \t\t 0.000029\n",
      "157 \t\t 0.000028\n",
      "158 \t\t 0.000027\n",
      "159 \t\t 0.000026\n",
      "160 \t\t 0.000025\n",
      "161 \t\t 0.000024\n",
      "162 \t\t 0.000023\n",
      "163 \t\t 0.000022\n",
      "164 \t\t 0.000021\n",
      "165 \t\t 0.000020\n",
      "166 \t\t 0.000019\n",
      "167 \t\t 0.000019\n",
      "168 \t\t 0.000018\n",
      "169 \t\t 0.000017\n",
      "170 \t\t 0.000016\n",
      "171 \t\t 0.000016\n",
      "172 \t\t 0.000015\n",
      "173 \t\t 0.000015\n",
      "174 \t\t 0.000014\n",
      "175 \t\t 0.000013\n",
      "176 \t\t 0.000013\n",
      "177 \t\t 0.000012\n",
      "178 \t\t 0.000012\n",
      "179 \t\t 0.000012\n",
      "180 \t\t 0.000011\n",
      "181 \t\t 0.000011\n",
      "182 \t\t 0.000010\n",
      "183 \t\t 0.000010\n",
      "184 \t\t 0.000009\n",
      "185 \t\t 0.000009\n",
      "186 \t\t 0.000009\n",
      "187 \t\t 0.000008\n",
      "188 \t\t 0.000008\n",
      "189 \t\t 0.000008\n",
      "190 \t\t 0.000008\n",
      "191 \t\t 0.000007\n",
      "192 \t\t 0.000007\n",
      "193 \t\t 0.000007\n",
      "194 \t\t 0.000006\n",
      "195 \t\t 0.000006\n",
      "196 \t\t 0.000006\n",
      "197 \t\t 0.000006\n",
      "198 \t\t 0.000006\n",
      "199 \t\t 0.000005\n",
      "200 \t\t 0.000005\n",
      "201 \t\t 0.000005\n",
      "202 \t\t 0.000005\n",
      "203 \t\t 0.000005\n",
      "204 \t\t 0.000004\n",
      "205 \t\t 0.000004\n",
      "206 \t\t 0.000004\n",
      "207 \t\t 0.000004\n",
      "208 \t\t 0.000004\n",
      "209 \t\t 0.000004\n",
      "210 \t\t 0.000004\n",
      "211 \t\t 0.000003\n",
      "212 \t\t 0.000003\n",
      "213 \t\t 0.000003\n",
      "214 \t\t 0.000003\n",
      "215 \t\t 0.000003\n",
      "216 \t\t 0.000003\n",
      "217 \t\t 0.000003\n",
      "218 \t\t 0.000003\n",
      "219 \t\t 0.000003\n",
      "220 \t\t 0.000002\n",
      "221 \t\t 0.000002\n",
      "222 \t\t 0.000002\n",
      "223 \t\t 0.000002\n",
      "224 \t\t 0.000002\n",
      "225 \t\t 0.000002\n",
      "226 \t\t 0.000002\n",
      "227 \t\t 0.000002\n",
      "228 \t\t 0.000002\n",
      "229 \t\t 0.000002\n",
      "230 \t\t 0.000002\n",
      "231 \t\t 0.000002\n",
      "232 \t\t 0.000002\n",
      "233 \t\t 0.000002\n",
      "234 \t\t 0.000002\n",
      "235 \t\t 0.000001\n",
      "236 \t\t 0.000001\n",
      "237 \t\t 0.000001\n",
      "238 \t\t 0.000001\n",
      "239 \t\t 0.000001\n",
      "240 \t\t 0.000001\n",
      "241 \t\t 0.000001\n",
      "242 \t\t 0.000001\n",
      "243 \t\t 0.000001\n",
      "244 \t\t 0.000001\n",
      "245 \t\t 0.000001\n",
      "246 \t\t 0.000001\n",
      "247 \t\t 0.000001\n",
      "248 \t\t 0.000001\n",
      "249 \t\t 0.000001\n",
      "250 \t\t 0.000001\n"
     ]
    }
   ],
   "source": [
    "# Create user-by-item matrix - nothing to do here\n",
    "train_user_item = train_df[['user_id', 'movie_id', 'rating', 'timestamp']]\n",
    "train_data_df = train_user_item.groupby(['user_id', 'movie_id'])['rating'].max().unstack()\n",
    "train_data_np = np.array(train_data_df)\n",
    "\n",
    "# Fit FunkSVD with the specified hyper parameters to the training data\n",
    "user_mat, movie_mat = FunkSVD(train_data_np, latent_features=15, learning_rate=0.005, iters=250)"
   ]
  },
  {
   "cell_type": "markdown",
   "metadata": {},
   "source": [
    "Now that you have created the **user_mat** and **movie_mat**, we can use this to make predictions for how users would rate movies, by just computing the dot product of the row associated with a user and the column associated with the movie.\n",
    "\n",
    "`3.` Use the comments in the function below to complete the **predict_rating** function."
   ]
  },
  {
   "cell_type": "code",
   "execution_count": 7,
   "metadata": {},
   "outputs": [],
   "source": [
    "def predict_rating(user_matrix, movie_matrix, user_id, movie_id):\n",
    "    '''\n",
    "    INPUT:\n",
    "    user_matrix - user by latent factor matrix\n",
    "    movie_matrix - latent factor by movie matrix\n",
    "    user_id - the user_id from the reviews df\n",
    "    movie_id - the movie_id according the movies df\n",
    "    \n",
    "    OUTPUT:\n",
    "    pred - the predicted rating for user_id-movie_id according to FunkSVD\n",
    "    '''\n",
    "    # Use the training data to create a series of users and movies that matches the ordering in training data\n",
    "    r = train_data_df.index.get_loc(user_id)\n",
    "    c = train_data_df.columns.get_loc(movie_id)\n",
    "    # User row and Movie Column\n",
    "    user_row = user_matrix[r, :]\n",
    "    movie_col = movie_matrix[:, c]\n",
    "    # Take dot product of that row and column in U and V to make prediction\n",
    "    pred = np.dot(user_row, movie_col)\n",
    "    return pred"
   ]
  },
  {
   "cell_type": "code",
   "execution_count": 8,
   "metadata": {},
   "outputs": [
    {
     "data": {
      "text/plain": [
       "5.9893826939468795"
      ]
     },
     "execution_count": 8,
     "metadata": {},
     "output_type": "execute_result"
    }
   ],
   "source": [
    "# Test your function with the first user-movie in the user-movie matrix (notice this is a nan)\n",
    "pred_val = predict_rating(user_mat, movie_mat, 8, 2844)\n",
    "pred_val"
   ]
  },
  {
   "cell_type": "markdown",
   "metadata": {},
   "source": [
    "It is great that you now have a way to make predictions. However it might be nice to get a little phrase back about the user, movie, and rating.\n",
    "\n",
    "`4.` Use the comments in the function below to complete the **predict_rating** function.  \n",
    "\n",
    "**Note:** The movie name doesn't come back in a great format, so you can see in the solution I messed around with it a bit just to make it a little nicer."
   ]
  },
  {
   "cell_type": "code",
   "execution_count": 9,
   "metadata": {},
   "outputs": [
    {
     "name": "stdout",
     "output_type": "stream",
     "text": [
      "nan\n"
     ]
    }
   ],
   "source": [
    "print(\"%f\" % np.nan)"
   ]
  },
  {
   "cell_type": "code",
   "execution_count": 10,
   "metadata": {},
   "outputs": [],
   "source": [
    "def print_prediction_summary(user_id, movie_id, prediction):\n",
    "    '''\n",
    "    INPUT:\n",
    "    user_id - the user_id from the reviews df\n",
    "    movie_id - the movie_id according the movies df\n",
    "    prediction - the predicted rating for user_id-movie_id\n",
    "    \n",
    "    OUTPUT:\n",
    "    None - prints a statement about the user, movie, and prediction made\n",
    "    \n",
    "    '''\n",
    "    original_rating = reviews[(reviews.user_id==user_id) & (reviews.movie_id==movie_id)]['rating']\n",
    "    if original_rating.empty:\n",
    "        original_rating = np.nan\n",
    "    else:\n",
    "        original_rating = original_rating.values[0]\n",
    "    movie_title = movies[movies.movie_id==movie_id]['movie'].values[0]\n",
    "    print(\"Rating prediction of user %d on movie %s: %f, while original rating is %f\" % (\n",
    "        user_id, movie_title, prediction, original_rating))"
   ]
  },
  {
   "cell_type": "code",
   "execution_count": 11,
   "metadata": {},
   "outputs": [
    {
     "name": "stdout",
     "output_type": "stream",
     "text": [
      "Rating prediction of user 8 on movie Fantômas - À l'ombre de la guillotine (1913): 5.989383, while original rating is nan\n"
     ]
    }
   ],
   "source": [
    "# Test your function the the results of the previous function\n",
    "print_prediction_summary(8, 2844, pred_val)"
   ]
  },
  {
   "cell_type": "markdown",
   "metadata": {},
   "source": [
    "Now that we have the ability to make predictions, let's see how well our predictions do on the test ratings we already have.  This will give an indication of how well we have captured the latent features, and our ability to use the latent features to make predictions in the future!\n",
    "\n",
    "`5.` For each of the user-movie rating in the **val_df** dataset, compare the actual rating given to the prediction you would make.  How do your predictions do?  Do you run into any problems?  If yes, what is the problem?  Use the document strings and comments below to assist as you work through these questions."
   ]
  },
  {
   "cell_type": "code",
   "execution_count": 12,
   "metadata": {},
   "outputs": [
    {
     "data": {
      "text/plain": [
       "user_id                    49056\n",
       "movie_id                 1598822\n",
       "rating                         8\n",
       "timestamp             1363308721\n",
       "date         2013-03-15 00:52:01\n",
       "month_1                        0\n",
       "month_2                        0\n",
       "month_3                        0\n",
       "month_4                        0\n",
       "month_5                        0\n",
       "month_6                        0\n",
       "month_7                        0\n",
       "month_8                        0\n",
       "month_9                        0\n",
       "month_10                       0\n",
       "month_11                       0\n",
       "month_12                       0\n",
       "year_2013                      1\n",
       "year_2014                      0\n",
       "year_2015                      0\n",
       "year_2016                      0\n",
       "year_2017                      0\n",
       "year_2018                      0\n",
       "Name: 650588, dtype: object"
      ]
     },
     "execution_count": 12,
     "metadata": {},
     "output_type": "execute_result"
    }
   ],
   "source": [
    "val_df.iloc[0]"
   ]
  },
  {
   "cell_type": "code",
   "execution_count": 13,
   "metadata": {},
   "outputs": [
    {
     "name": "stdout",
     "output_type": "stream",
     "text": [
      "Rating prediction of user 49056 on movie New Year's Eve (2011): 6.555195, while original rating is 8.000000\n",
      "Rating prediction of user 49056 on movie The Butterfly Effect (2004): 9.014738, while original rating is 9.000000\n",
      "Rating prediction of user 49056 on movie One Day (2011): 6.906941, while original rating is 9.000000\n",
      "Rating prediction of user 49056 on movie The Next Three Days (2010): 7.011149, while original rating is 4.000000\n",
      "Rating prediction of user 28599 on movie Aladdin (1992): 7.514436, while original rating is 8.000000\n",
      "Rating prediction of user 50593 on movie The Devil Inside (2012): 3.930921, while original rating is 4.000000\n"
     ]
    }
   ],
   "source": [
    "def validation_comparison(val_df, num_preds):\n",
    "    '''\n",
    "    INPUT:\n",
    "    val_df - the validation dataset created in the third cell above\n",
    "    num_preds - (int) the number of rows (going in order) you would like to make predictions for\n",
    "    \n",
    "    OUTPUT:\n",
    "    Nothing returned - print a statement about the prediciton made for each row of val_df from row 0 to num_preds\n",
    "    '''\n",
    "    for i in range(num_preds):\n",
    "        user_id = val_df.iloc[i][\"user_id\"]\n",
    "        movie_id = val_df.iloc[i][\"movie_id\"]\n",
    "        pred_val = predict_rating(user_mat, movie_mat, user_id, movie_id)\n",
    "        print_prediction_summary(user_id, movie_id, pred_val)\n",
    "# Perform the predicted vs. actual for the first 6 rows.  How does it look?\n",
    "validation_comparison(val_df, 6)        "
   ]
  },
  {
   "cell_type": "code",
   "execution_count": 14,
   "metadata": {},
   "outputs": [
    {
     "name": "stdout",
     "output_type": "stream",
     "text": [
      "Rating prediction of user 49056 on movie New Year's Eve (2011): 6.555195, while original rating is 8.000000\n",
      "Rating prediction of user 49056 on movie The Butterfly Effect (2004): 9.014738, while original rating is 9.000000\n",
      "Rating prediction of user 49056 on movie One Day (2011): 6.906941, while original rating is 9.000000\n",
      "Rating prediction of user 49056 on movie The Next Three Days (2010): 7.011149, while original rating is 4.000000\n",
      "Rating prediction of user 28599 on movie Aladdin (1992): 7.514436, while original rating is 8.000000\n",
      "Rating prediction of user 50593 on movie The Devil Inside (2012): 3.930921, while original rating is 4.000000\n"
     ]
    },
    {
     "ename": "KeyError",
     "evalue": "287978",
     "output_type": "error",
     "traceback": [
      "\u001b[0;31m---------------------------------------------------------------------------\u001b[0m",
      "\u001b[0;31mKeyError\u001b[0m                                  Traceback (most recent call last)",
      "\u001b[0;32m~/anaconda3/envs/aind/lib/python3.5/site-packages/pandas/core/indexes/base.py\u001b[0m in \u001b[0;36mget_loc\u001b[0;34m(self, key, method, tolerance)\u001b[0m\n\u001b[1;32m   2524\u001b[0m             \u001b[0;32mtry\u001b[0m\u001b[0;34m:\u001b[0m\u001b[0;34m\u001b[0m\u001b[0m\n\u001b[0;32m-> 2525\u001b[0;31m                 \u001b[0;32mreturn\u001b[0m \u001b[0mself\u001b[0m\u001b[0;34m.\u001b[0m\u001b[0m_engine\u001b[0m\u001b[0;34m.\u001b[0m\u001b[0mget_loc\u001b[0m\u001b[0;34m(\u001b[0m\u001b[0mkey\u001b[0m\u001b[0;34m)\u001b[0m\u001b[0;34m\u001b[0m\u001b[0m\n\u001b[0m\u001b[1;32m   2526\u001b[0m             \u001b[0;32mexcept\u001b[0m \u001b[0mKeyError\u001b[0m\u001b[0;34m:\u001b[0m\u001b[0;34m\u001b[0m\u001b[0m\n",
      "\u001b[0;32mpandas/_libs/index.pyx\u001b[0m in \u001b[0;36mpandas._libs.index.IndexEngine.get_loc\u001b[0;34m()\u001b[0m\n",
      "\u001b[0;32mpandas/_libs/index.pyx\u001b[0m in \u001b[0;36mpandas._libs.index.IndexEngine.get_loc\u001b[0;34m()\u001b[0m\n",
      "\u001b[0;32mpandas/_libs/hashtable_class_helper.pxi\u001b[0m in \u001b[0;36mpandas._libs.hashtable.Int64HashTable.get_item\u001b[0;34m()\u001b[0m\n",
      "\u001b[0;32mpandas/_libs/hashtable_class_helper.pxi\u001b[0m in \u001b[0;36mpandas._libs.hashtable.Int64HashTable.get_item\u001b[0;34m()\u001b[0m\n",
      "\u001b[0;31mKeyError\u001b[0m: 287978",
      "\nDuring handling of the above exception, another exception occurred:\n",
      "\u001b[0;31mKeyError\u001b[0m                                  Traceback (most recent call last)",
      "\u001b[0;32m<ipython-input-14-70188ffbf3d7>\u001b[0m in \u001b[0;36m<module>\u001b[0;34m()\u001b[0m\n\u001b[1;32m      1\u001b[0m \u001b[0;31m# Perform the predicted vs. actual for the first 7 rows.  What happened?\u001b[0m\u001b[0;34m\u001b[0m\u001b[0;34m\u001b[0m\u001b[0m\n\u001b[0;32m----> 2\u001b[0;31m \u001b[0mvalidation_comparison\u001b[0m\u001b[0;34m(\u001b[0m\u001b[0mval_df\u001b[0m\u001b[0;34m,\u001b[0m \u001b[0;36m7\u001b[0m\u001b[0;34m)\u001b[0m\u001b[0;34m\u001b[0m\u001b[0m\n\u001b[0m",
      "\u001b[0;32m<ipython-input-13-cd2d89e545b8>\u001b[0m in \u001b[0;36mvalidation_comparison\u001b[0;34m(val_df, num_preds)\u001b[0m\n\u001b[1;32m     11\u001b[0m         \u001b[0muser_id\u001b[0m \u001b[0;34m=\u001b[0m \u001b[0mval_df\u001b[0m\u001b[0;34m.\u001b[0m\u001b[0miloc\u001b[0m\u001b[0;34m[\u001b[0m\u001b[0mi\u001b[0m\u001b[0;34m]\u001b[0m\u001b[0;34m[\u001b[0m\u001b[0;34m\"user_id\"\u001b[0m\u001b[0;34m]\u001b[0m\u001b[0;34m\u001b[0m\u001b[0m\n\u001b[1;32m     12\u001b[0m         \u001b[0mmovie_id\u001b[0m \u001b[0;34m=\u001b[0m \u001b[0mval_df\u001b[0m\u001b[0;34m.\u001b[0m\u001b[0miloc\u001b[0m\u001b[0;34m[\u001b[0m\u001b[0mi\u001b[0m\u001b[0;34m]\u001b[0m\u001b[0;34m[\u001b[0m\u001b[0;34m\"movie_id\"\u001b[0m\u001b[0;34m]\u001b[0m\u001b[0;34m\u001b[0m\u001b[0m\n\u001b[0;32m---> 13\u001b[0;31m         \u001b[0mpred_val\u001b[0m \u001b[0;34m=\u001b[0m \u001b[0mpredict_rating\u001b[0m\u001b[0;34m(\u001b[0m\u001b[0muser_mat\u001b[0m\u001b[0;34m,\u001b[0m \u001b[0mmovie_mat\u001b[0m\u001b[0;34m,\u001b[0m \u001b[0muser_id\u001b[0m\u001b[0;34m,\u001b[0m \u001b[0mmovie_id\u001b[0m\u001b[0;34m)\u001b[0m\u001b[0;34m\u001b[0m\u001b[0m\n\u001b[0m\u001b[1;32m     14\u001b[0m         \u001b[0mprint_prediction_summary\u001b[0m\u001b[0;34m(\u001b[0m\u001b[0muser_id\u001b[0m\u001b[0;34m,\u001b[0m \u001b[0mmovie_id\u001b[0m\u001b[0;34m,\u001b[0m \u001b[0mpred_val\u001b[0m\u001b[0;34m)\u001b[0m\u001b[0;34m\u001b[0m\u001b[0m\n\u001b[1;32m     15\u001b[0m \u001b[0;31m# Perform the predicted vs. actual for the first 6 rows.  How does it look?\u001b[0m\u001b[0;34m\u001b[0m\u001b[0;34m\u001b[0m\u001b[0m\n",
      "\u001b[0;32m<ipython-input-7-14864f3f5e6a>\u001b[0m in \u001b[0;36mpredict_rating\u001b[0;34m(user_matrix, movie_matrix, user_id, movie_id)\u001b[0m\n\u001b[1;32m     12\u001b[0m     \u001b[0;31m# Use the training data to create a series of users and movies that matches the ordering in training data\u001b[0m\u001b[0;34m\u001b[0m\u001b[0;34m\u001b[0m\u001b[0m\n\u001b[1;32m     13\u001b[0m     \u001b[0mr\u001b[0m \u001b[0;34m=\u001b[0m \u001b[0mtrain_data_df\u001b[0m\u001b[0;34m.\u001b[0m\u001b[0mindex\u001b[0m\u001b[0;34m.\u001b[0m\u001b[0mget_loc\u001b[0m\u001b[0;34m(\u001b[0m\u001b[0muser_id\u001b[0m\u001b[0;34m)\u001b[0m\u001b[0;34m\u001b[0m\u001b[0m\n\u001b[0;32m---> 14\u001b[0;31m     \u001b[0mc\u001b[0m \u001b[0;34m=\u001b[0m \u001b[0mtrain_data_df\u001b[0m\u001b[0;34m.\u001b[0m\u001b[0mcolumns\u001b[0m\u001b[0;34m.\u001b[0m\u001b[0mget_loc\u001b[0m\u001b[0;34m(\u001b[0m\u001b[0mmovie_id\u001b[0m\u001b[0;34m)\u001b[0m\u001b[0;34m\u001b[0m\u001b[0m\n\u001b[0m\u001b[1;32m     15\u001b[0m     \u001b[0;31m# User row and Movie Column\u001b[0m\u001b[0;34m\u001b[0m\u001b[0;34m\u001b[0m\u001b[0m\n\u001b[1;32m     16\u001b[0m     \u001b[0muser_row\u001b[0m \u001b[0;34m=\u001b[0m \u001b[0muser_matrix\u001b[0m\u001b[0;34m[\u001b[0m\u001b[0mr\u001b[0m\u001b[0;34m,\u001b[0m \u001b[0;34m:\u001b[0m\u001b[0;34m]\u001b[0m\u001b[0;34m\u001b[0m\u001b[0m\n",
      "\u001b[0;32m~/anaconda3/envs/aind/lib/python3.5/site-packages/pandas/core/indexes/base.py\u001b[0m in \u001b[0;36mget_loc\u001b[0;34m(self, key, method, tolerance)\u001b[0m\n\u001b[1;32m   2525\u001b[0m                 \u001b[0;32mreturn\u001b[0m \u001b[0mself\u001b[0m\u001b[0;34m.\u001b[0m\u001b[0m_engine\u001b[0m\u001b[0;34m.\u001b[0m\u001b[0mget_loc\u001b[0m\u001b[0;34m(\u001b[0m\u001b[0mkey\u001b[0m\u001b[0;34m)\u001b[0m\u001b[0;34m\u001b[0m\u001b[0m\n\u001b[1;32m   2526\u001b[0m             \u001b[0;32mexcept\u001b[0m \u001b[0mKeyError\u001b[0m\u001b[0;34m:\u001b[0m\u001b[0;34m\u001b[0m\u001b[0m\n\u001b[0;32m-> 2527\u001b[0;31m                 \u001b[0;32mreturn\u001b[0m \u001b[0mself\u001b[0m\u001b[0;34m.\u001b[0m\u001b[0m_engine\u001b[0m\u001b[0;34m.\u001b[0m\u001b[0mget_loc\u001b[0m\u001b[0;34m(\u001b[0m\u001b[0mself\u001b[0m\u001b[0;34m.\u001b[0m\u001b[0m_maybe_cast_indexer\u001b[0m\u001b[0;34m(\u001b[0m\u001b[0mkey\u001b[0m\u001b[0;34m)\u001b[0m\u001b[0;34m)\u001b[0m\u001b[0;34m\u001b[0m\u001b[0m\n\u001b[0m\u001b[1;32m   2528\u001b[0m \u001b[0;34m\u001b[0m\u001b[0m\n\u001b[1;32m   2529\u001b[0m         \u001b[0mindexer\u001b[0m \u001b[0;34m=\u001b[0m \u001b[0mself\u001b[0m\u001b[0;34m.\u001b[0m\u001b[0mget_indexer\u001b[0m\u001b[0;34m(\u001b[0m\u001b[0;34m[\u001b[0m\u001b[0mkey\u001b[0m\u001b[0;34m]\u001b[0m\u001b[0;34m,\u001b[0m \u001b[0mmethod\u001b[0m\u001b[0;34m=\u001b[0m\u001b[0mmethod\u001b[0m\u001b[0;34m,\u001b[0m \u001b[0mtolerance\u001b[0m\u001b[0;34m=\u001b[0m\u001b[0mtolerance\u001b[0m\u001b[0;34m)\u001b[0m\u001b[0;34m\u001b[0m\u001b[0m\n",
      "\u001b[0;32mpandas/_libs/index.pyx\u001b[0m in \u001b[0;36mpandas._libs.index.IndexEngine.get_loc\u001b[0;34m()\u001b[0m\n",
      "\u001b[0;32mpandas/_libs/index.pyx\u001b[0m in \u001b[0;36mpandas._libs.index.IndexEngine.get_loc\u001b[0;34m()\u001b[0m\n",
      "\u001b[0;32mpandas/_libs/hashtable_class_helper.pxi\u001b[0m in \u001b[0;36mpandas._libs.hashtable.Int64HashTable.get_item\u001b[0;34m()\u001b[0m\n",
      "\u001b[0;32mpandas/_libs/hashtable_class_helper.pxi\u001b[0m in \u001b[0;36mpandas._libs.hashtable.Int64HashTable.get_item\u001b[0;34m()\u001b[0m\n",
      "\u001b[0;31mKeyError\u001b[0m: 287978"
     ]
    }
   ],
   "source": [
    "# Perform the predicted vs. actual for the first 7 rows.  What happened?\n",
    "validation_comparison(val_df, 7)        "
   ]
  },
  {
   "cell_type": "markdown",
   "metadata": {},
   "source": [
    "** A statement about why you think what happened happened.**\n",
    "\n",
    "The 7th movie_id is not available in the training data."
   ]
  },
  {
   "cell_type": "code",
   "execution_count": null,
   "metadata": {},
   "outputs": [],
   "source": []
  }
 ],
 "metadata": {
  "kernelspec": {
   "display_name": "Python 3",
   "language": "python",
   "name": "python3"
  },
  "language_info": {
   "codemirror_mode": {
    "name": "ipython",
    "version": 3
   },
   "file_extension": ".py",
   "mimetype": "text/x-python",
   "name": "python",
   "nbconvert_exporter": "python",
   "pygments_lexer": "ipython3",
   "version": "3.5.4"
  }
 },
 "nbformat": 4,
 "nbformat_minor": 2
}
